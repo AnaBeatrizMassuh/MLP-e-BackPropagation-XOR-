{
  "nbformat": 4,
  "nbformat_minor": 0,
  "metadata": {
    "colab": {
      "name": "Backpropagation.ipynb",
      "provenance": [],
      "collapsed_sections": [],
      "include_colab_link": true
    },
    "kernelspec": {
      "name": "python3",
      "display_name": "Python 3"
    },
    "language_info": {
      "name": "python"
    }
  },
  "cells": [
    {
      "cell_type": "markdown",
      "metadata": {
        "id": "view-in-github",
        "colab_type": "text"
      },
      "source": [
        "<a href=\"https://colab.research.google.com/github/AnaBeatrizMassuh/MLP-e-BackPropagation-XOR-/blob/main/Backpropagation.ipynb\" target=\"_parent\"><img src=\"https://colab.research.google.com/assets/colab-badge.svg\" alt=\"Open In Colab\"/></a>"
      ]
    },
    {
      "cell_type": "code",
      "execution_count": 1,
      "metadata": {
        "id": "VyZF52tt1bOS"
      },
      "outputs": [],
      "source": [
        "import numpy as np\n",
        "import math"
      ]
    },
    {
      "cell_type": "code",
      "source": [
        "def fativacao(x,tipo,t):\n",
        "    if tipo == 'degrau':\n",
        "        if x >= t:\n",
        "            y = 1\n",
        "        else:\n",
        "            y = 0\n",
        "    elif tipo == 'sigmoide':\n",
        "        y = 1/(1 + math.exp(-x))\n",
        "    elif tipo == 'sinal':\n",
        "        if x >= 0:\n",
        "            y = 1\n",
        "        else:\n",
        "            y = -1\n",
        "    else:\n",
        "        y = 'ERRO: Opcao invalida'\n",
        "    return y"
      ],
      "metadata": {
        "id": "hDI_yn-x5PXv"
      },
      "execution_count": 2,
      "outputs": []
    },
    {
      "cell_type": "code",
      "source": [
        "x = [0.5,1.1,0.1,0.2,0.7]"
      ],
      "metadata": {
        "id": "C-zE1v3G1ioW"
      },
      "execution_count": 3,
      "outputs": []
    },
    {
      "cell_type": "code",
      "source": [
        "pesos = [-3.0,-6.0,0.0,0.0,0.0]"
      ],
      "metadata": {
        "id": "NOae2fhi17Om"
      },
      "execution_count": 4,
      "outputs": []
    },
    {
      "cell_type": "code",
      "source": [
        "d = len(pesos)"
      ],
      "metadata": {
        "id": "MznNDIQh4bwf"
      },
      "execution_count": 5,
      "outputs": []
    },
    {
      "cell_type": "code",
      "source": [
        "bias  = 0\n",
        "net = bias\n",
        "\n",
        "for i in range(0,d):\n",
        "    net += x[i]*pesos[i] "
      ],
      "metadata": {
        "id": "FCoLuIWW4Rkn"
      },
      "execution_count": 6,
      "outputs": []
    },
    {
      "cell_type": "code",
      "source": [
        "print(fativacao(net,'sigmoide',0.4))"
      ],
      "metadata": {
        "colab": {
          "base_uri": "https://localhost:8080/"
        },
        "id": "BMGc_qcH4idp",
        "outputId": "6dcc8e83-cecd-4321-cc82-4e677488d1d6"
      },
      "execution_count": 7,
      "outputs": [
        {
          "output_type": "stream",
          "name": "stdout",
          "text": [
            "0.0003034470300289187\n"
          ]
        }
      ]
    },
    {
      "cell_type": "code",
      "source": [
        "pesos = np.random.randn(5)"
      ],
      "metadata": {
        "id": "vJ-jNJVk7yJ3"
      },
      "execution_count": 8,
      "outputs": []
    },
    {
      "cell_type": "code",
      "source": [
        "pesos\n"
      ],
      "metadata": {
        "colab": {
          "base_uri": "https://localhost:8080/"
        },
        "id": "_t5T43N78A9v",
        "outputId": "7300c8d9-70e3-41a4-9e5b-c7cfd991734a"
      },
      "execution_count": 9,
      "outputs": [
        {
          "output_type": "execute_result",
          "data": {
            "text/plain": [
              "array([ 0.62793858, -0.26640933, -1.42950861, -1.14717144, -0.18810303])"
            ]
          },
          "metadata": {},
          "execution_count": 9
        }
      ]
    },
    {
      "cell_type": "code",
      "source": [
        "data_and = [[0,0],[0,1],[1,0],[1,1]]\n",
        "labels = [0,0,0,1]\n",
        "d = 2"
      ],
      "metadata": {
        "id": "PBaqOv5D82XH"
      },
      "execution_count": 10,
      "outputs": []
    },
    {
      "cell_type": "code",
      "source": [
        "data_and = [[0,0],[0,1],[1,0],[1,1]]\n",
        "labels = [0,1,1,0]\n",
        "\n",
        "l = np.array(labels)\n",
        "X = np.array(data_and)\n",
        "layer1 = np.array([np.random.random(2), np.random.random(2)])\n",
        "layer2 = np.array(np.random.random(2))\n",
        "\n",
        "O = []\n",
        "F = []"
      ],
      "metadata": {
        "id": "kDjZodS8HIox"
      },
      "execution_count": 14,
      "outputs": []
    },
    {
      "cell_type": "code",
      "source": [
        "for i,x in enumerate(X):\n",
        "  layer1_o = []\n",
        "  layer_f = 0 \n",
        "  for neuron in range(0,len(layer1)):\n",
        "    m = np.multiply(x, layer1[neuron])\n",
        "    u = np.sum(m)\n",
        "    layer1_o.append(factivation(u, 'sigmoide'))\n",
        "   \n",
        "  m = np.multiply(layer1_o, layer2)\n",
        "  u = np.sum(m)\n",
        "  layer_f = factivation(u, 'sigmoide')\n",
        "\n",
        "\n",
        "  O.append(layer1_o)\n",
        "  F.append(layer_f)"
      ],
      "metadata": {
        "colab": {
          "base_uri": "https://localhost:8080/",
          "height": 235
        },
        "id": "NyMcdDZYG-Ti",
        "outputId": "16f7ec82-fe85-4e01-8f8c-ab3afdda3608"
      },
      "execution_count": 15,
      "outputs": [
        {
          "output_type": "error",
          "ename": "NameError",
          "evalue": "ignored",
          "traceback": [
            "\u001b[0;31m---------------------------------------------------------------------------\u001b[0m",
            "\u001b[0;31mNameError\u001b[0m                                 Traceback (most recent call last)",
            "\u001b[0;32m<ipython-input-15-d8b68acdc4f8>\u001b[0m in \u001b[0;36m<module>\u001b[0;34m()\u001b[0m\n\u001b[1;32m      5\u001b[0m     \u001b[0mm\u001b[0m \u001b[0;34m=\u001b[0m \u001b[0mnp\u001b[0m\u001b[0;34m.\u001b[0m\u001b[0mmultiply\u001b[0m\u001b[0;34m(\u001b[0m\u001b[0mx\u001b[0m\u001b[0;34m,\u001b[0m \u001b[0mlayer1\u001b[0m\u001b[0;34m[\u001b[0m\u001b[0mneuron\u001b[0m\u001b[0;34m]\u001b[0m\u001b[0;34m)\u001b[0m\u001b[0;34m\u001b[0m\u001b[0;34m\u001b[0m\u001b[0m\n\u001b[1;32m      6\u001b[0m     \u001b[0mu\u001b[0m \u001b[0;34m=\u001b[0m \u001b[0mnp\u001b[0m\u001b[0;34m.\u001b[0m\u001b[0msum\u001b[0m\u001b[0;34m(\u001b[0m\u001b[0mm\u001b[0m\u001b[0;34m)\u001b[0m\u001b[0;34m\u001b[0m\u001b[0;34m\u001b[0m\u001b[0m\n\u001b[0;32m----> 7\u001b[0;31m     \u001b[0mlayer1_o\u001b[0m\u001b[0;34m.\u001b[0m\u001b[0mappend\u001b[0m\u001b[0;34m(\u001b[0m\u001b[0mfactivation\u001b[0m\u001b[0;34m(\u001b[0m\u001b[0mu\u001b[0m\u001b[0;34m,\u001b[0m \u001b[0;34m'sigmoide'\u001b[0m\u001b[0;34m)\u001b[0m\u001b[0;34m)\u001b[0m\u001b[0;34m\u001b[0m\u001b[0;34m\u001b[0m\u001b[0m\n\u001b[0m\u001b[1;32m      8\u001b[0m \u001b[0;34m\u001b[0m\u001b[0m\n\u001b[1;32m      9\u001b[0m   \u001b[0mm\u001b[0m \u001b[0;34m=\u001b[0m \u001b[0mnp\u001b[0m\u001b[0;34m.\u001b[0m\u001b[0mmultiply\u001b[0m\u001b[0;34m(\u001b[0m\u001b[0mlayer1_o\u001b[0m\u001b[0;34m,\u001b[0m \u001b[0mlayer2\u001b[0m\u001b[0;34m)\u001b[0m\u001b[0;34m\u001b[0m\u001b[0;34m\u001b[0m\u001b[0m\n",
            "\u001b[0;31mNameError\u001b[0m: name 'factivation' is not defined"
          ]
        }
      ]
    },
    {
      "cell_type": "code",
      "source": [
        ""
      ],
      "metadata": {
        "id": "m3SENqQhHPGo"
      },
      "execution_count": null,
      "outputs": []
    },
    {
      "cell_type": "code",
      "source": [
        "l = 0.1\n",
        "grad_layer2 = []\n",
        "grad_layer1 = []\n",
        "\n",
        "for i,x in enumerate(X):\n",
        "  grad3 = (F[i]-labels[i]) * (F[i]*(1-F[i]))\n",
        "  grad2 = (O[i][1]*(1-O[i][1])) * grad3 * layer2[1]\n",
        "  grad1 = (O[i][0]*(1-O[i][0])) * grad3 * layer2[0]\n",
        "\n",
        "  for j, weight in enumerate(layer2):\n",
        "    layer2[j] = l * grad3 * weight\n",
        "  \n",
        "  for j, weight in enumerate(layer1):\n",
        "    layer1[j][1] = l * grad2 * weight[1]\n",
        "    layer1[j][0] = l * grad1 * weight[0]\n",
        "\n",
        "  print(f\"Gradient 1: {grad1}\")\n",
        "  print(f\"Gradient 2: {grad2}\")\n",
        "  print(f\"Gradient 3: {grad3}\")\n",
        "  print(\"\\n\")\n",
        "  print(f\"Layer 1 Weights: {layer1}\")\n",
        "  print(f\"Layer 2 Weights: {layer2}\")\n",
        "  print(\"---------------------\")"
      ],
      "metadata": {
        "colab": {
          "base_uri": "https://localhost:8080/",
          "height": 235
        },
        "id": "DYPABJhTGKN0",
        "outputId": "3f9afe22-b1d7-4ac9-cf1a-369aee77acd5"
      },
      "execution_count": 16,
      "outputs": [
        {
          "output_type": "error",
          "ename": "IndexError",
          "evalue": "ignored",
          "traceback": [
            "\u001b[0;31m---------------------------------------------------------------------------\u001b[0m",
            "\u001b[0;31mIndexError\u001b[0m                                Traceback (most recent call last)",
            "\u001b[0;32m<ipython-input-16-f88201a6fad1>\u001b[0m in \u001b[0;36m<module>\u001b[0;34m()\u001b[0m\n\u001b[1;32m      4\u001b[0m \u001b[0;34m\u001b[0m\u001b[0m\n\u001b[1;32m      5\u001b[0m \u001b[0;32mfor\u001b[0m \u001b[0mi\u001b[0m\u001b[0;34m,\u001b[0m\u001b[0mx\u001b[0m \u001b[0;32min\u001b[0m \u001b[0menumerate\u001b[0m\u001b[0;34m(\u001b[0m\u001b[0mX\u001b[0m\u001b[0;34m)\u001b[0m\u001b[0;34m:\u001b[0m\u001b[0;34m\u001b[0m\u001b[0;34m\u001b[0m\u001b[0m\n\u001b[0;32m----> 6\u001b[0;31m   \u001b[0mgrad3\u001b[0m \u001b[0;34m=\u001b[0m \u001b[0;34m(\u001b[0m\u001b[0mF\u001b[0m\u001b[0;34m[\u001b[0m\u001b[0mi\u001b[0m\u001b[0;34m]\u001b[0m\u001b[0;34m-\u001b[0m\u001b[0mlabels\u001b[0m\u001b[0;34m[\u001b[0m\u001b[0mi\u001b[0m\u001b[0;34m]\u001b[0m\u001b[0;34m)\u001b[0m \u001b[0;34m*\u001b[0m \u001b[0;34m(\u001b[0m\u001b[0mF\u001b[0m\u001b[0;34m[\u001b[0m\u001b[0mi\u001b[0m\u001b[0;34m]\u001b[0m\u001b[0;34m*\u001b[0m\u001b[0;34m(\u001b[0m\u001b[0;36m1\u001b[0m\u001b[0;34m-\u001b[0m\u001b[0mF\u001b[0m\u001b[0;34m[\u001b[0m\u001b[0mi\u001b[0m\u001b[0;34m]\u001b[0m\u001b[0;34m)\u001b[0m\u001b[0;34m)\u001b[0m\u001b[0;34m\u001b[0m\u001b[0;34m\u001b[0m\u001b[0m\n\u001b[0m\u001b[1;32m      7\u001b[0m   \u001b[0mgrad2\u001b[0m \u001b[0;34m=\u001b[0m \u001b[0;34m(\u001b[0m\u001b[0mO\u001b[0m\u001b[0;34m[\u001b[0m\u001b[0mi\u001b[0m\u001b[0;34m]\u001b[0m\u001b[0;34m[\u001b[0m\u001b[0;36m1\u001b[0m\u001b[0;34m]\u001b[0m\u001b[0;34m*\u001b[0m\u001b[0;34m(\u001b[0m\u001b[0;36m1\u001b[0m\u001b[0;34m-\u001b[0m\u001b[0mO\u001b[0m\u001b[0;34m[\u001b[0m\u001b[0mi\u001b[0m\u001b[0;34m]\u001b[0m\u001b[0;34m[\u001b[0m\u001b[0;36m1\u001b[0m\u001b[0;34m]\u001b[0m\u001b[0;34m)\u001b[0m\u001b[0;34m)\u001b[0m \u001b[0;34m*\u001b[0m \u001b[0mgrad3\u001b[0m \u001b[0;34m*\u001b[0m \u001b[0mlayer2\u001b[0m\u001b[0;34m[\u001b[0m\u001b[0;36m1\u001b[0m\u001b[0;34m]\u001b[0m\u001b[0;34m\u001b[0m\u001b[0;34m\u001b[0m\u001b[0m\n\u001b[1;32m      8\u001b[0m   \u001b[0mgrad1\u001b[0m \u001b[0;34m=\u001b[0m \u001b[0;34m(\u001b[0m\u001b[0mO\u001b[0m\u001b[0;34m[\u001b[0m\u001b[0mi\u001b[0m\u001b[0;34m]\u001b[0m\u001b[0;34m[\u001b[0m\u001b[0;36m0\u001b[0m\u001b[0;34m]\u001b[0m\u001b[0;34m*\u001b[0m\u001b[0;34m(\u001b[0m\u001b[0;36m1\u001b[0m\u001b[0;34m-\u001b[0m\u001b[0mO\u001b[0m\u001b[0;34m[\u001b[0m\u001b[0mi\u001b[0m\u001b[0;34m]\u001b[0m\u001b[0;34m[\u001b[0m\u001b[0;36m0\u001b[0m\u001b[0;34m]\u001b[0m\u001b[0;34m)\u001b[0m\u001b[0;34m)\u001b[0m \u001b[0;34m*\u001b[0m \u001b[0mgrad3\u001b[0m \u001b[0;34m*\u001b[0m \u001b[0mlayer2\u001b[0m\u001b[0;34m[\u001b[0m\u001b[0;36m0\u001b[0m\u001b[0;34m]\u001b[0m\u001b[0;34m\u001b[0m\u001b[0;34m\u001b[0m\u001b[0m\n",
            "\u001b[0;31mIndexError\u001b[0m: list index out of range"
          ]
        }
      ]
    },
    {
      "cell_type": "code",
      "source": [
        "bias  = 0\n",
        "for j,x in enumerate(X):\n",
        "    \n",
        "    net = bias\n",
        "\n",
        "    for i in range(0,d):\n",
        "        net += x[i]*pesos[i]\n",
        "    \n",
        "    y = fativacao(net,'degrau',0.5)\n",
        "    print(f'[{x[0]},{x[1]}] Output perceptron: {y} Label: {labels[j]}')"
      ],
      "metadata": {
        "colab": {
          "base_uri": "https://localhost:8080/",
          "height": 235
        },
        "id": "waeJ7nRm8_Ln",
        "outputId": "ccc79dd4-968c-4ffa-a030-21fdfff7a9fe"
      },
      "execution_count": 11,
      "outputs": [
        {
          "output_type": "error",
          "ename": "NameError",
          "evalue": "ignored",
          "traceback": [
            "\u001b[0;31m---------------------------------------------------------------------------\u001b[0m",
            "\u001b[0;31mNameError\u001b[0m                                 Traceback (most recent call last)",
            "\u001b[0;32m<ipython-input-11-f174f4a3d940>\u001b[0m in \u001b[0;36m<module>\u001b[0;34m()\u001b[0m\n\u001b[1;32m      1\u001b[0m \u001b[0mbias\u001b[0m  \u001b[0;34m=\u001b[0m \u001b[0;36m0\u001b[0m\u001b[0;34m\u001b[0m\u001b[0;34m\u001b[0m\u001b[0m\n\u001b[0;32m----> 2\u001b[0;31m \u001b[0;32mfor\u001b[0m \u001b[0mj\u001b[0m\u001b[0;34m,\u001b[0m\u001b[0mx\u001b[0m \u001b[0;32min\u001b[0m \u001b[0menumerate\u001b[0m\u001b[0;34m(\u001b[0m\u001b[0mX\u001b[0m\u001b[0;34m)\u001b[0m\u001b[0;34m:\u001b[0m\u001b[0;34m\u001b[0m\u001b[0;34m\u001b[0m\u001b[0m\n\u001b[0m\u001b[1;32m      3\u001b[0m \u001b[0;34m\u001b[0m\u001b[0m\n\u001b[1;32m      4\u001b[0m     \u001b[0mnet\u001b[0m \u001b[0;34m=\u001b[0m \u001b[0mbias\u001b[0m\u001b[0;34m\u001b[0m\u001b[0;34m\u001b[0m\u001b[0m\n\u001b[1;32m      5\u001b[0m \u001b[0;34m\u001b[0m\u001b[0m\n",
            "\u001b[0;31mNameError\u001b[0m: name 'X' is not defined"
          ]
        }
      ]
    },
    {
      "cell_type": "markdown",
      "source": [
        "Backpropagation da Perceptron"
      ],
      "metadata": {
        "id": "MnS1vwnF_erz"
      }
    },
    {
      "cell_type": "code",
      "source": [
        "data_and = [[0,0],[0,1],[1,0],[1,1]]\n",
        "labels = [0,0,0,1]\n",
        "d = 2\n",
        "\n",
        "lr = 0.2\n",
        "pesos = np.random.randn(5)\n",
        "l = np.array(labels)\n",
        "X = np.array(data_and)\n",
        "t = 0\n",
        "\n",
        "while t < 15:\n",
        "\n",
        "    loss = 0\n",
        "\n",
        "    print(f'Epoch: {t}')\n",
        "\n",
        "    for i,x in enumerate(X):\n",
        "\n",
        "        net = 0\n",
        "        for j in range(0,d):\n",
        "            net += pesos[j]*x[j]\n",
        "\n",
        "        y = fativacao(net,'degrau',0.4)\n",
        "\n",
        "        erro = (labels[i]-y)**2\n",
        "\n",
        "        loss += erro\n",
        "\n",
        "        if labels[i] != y:\n",
        "\n",
        "            for j in range(0,d):\n",
        "                delta = lr*x[j]*(labels[i]-y)\n",
        "                pesos[j] += delta\n",
        "    t+=1\n",
        "    print(f'Loss function: {loss}')\n"
      ],
      "metadata": {
        "colab": {
          "base_uri": "https://localhost:8080/"
        },
        "id": "pEMY5Xov_d95",
        "outputId": "1d0ecded-9b96-4668-fb53-51515bf8d1d5"
      },
      "execution_count": null,
      "outputs": [
        {
          "output_type": "stream",
          "name": "stdout",
          "text": [
            "Epoch: 0\n",
            "Loss function: 1\n",
            "Epoch: 1\n",
            "Loss function: 1\n",
            "Epoch: 2\n",
            "Loss function: 1\n",
            "Epoch: 3\n",
            "Loss function: 2\n",
            "Epoch: 4\n",
            "Loss function: 1\n",
            "Epoch: 5\n",
            "Loss function: 0\n",
            "Epoch: 6\n",
            "Loss function: 0\n",
            "Epoch: 7\n",
            "Loss function: 0\n",
            "Epoch: 8\n",
            "Loss function: 0\n",
            "Epoch: 9\n",
            "Loss function: 0\n",
            "Epoch: 10\n",
            "Loss function: 0\n",
            "Epoch: 11\n",
            "Loss function: 0\n",
            "Epoch: 12\n",
            "Loss function: 0\n",
            "Epoch: 13\n",
            "Loss function: 0\n",
            "Epoch: 14\n",
            "Loss function: 0\n"
          ]
        }
      ]
    },
    {
      "cell_type": "markdown",
      "source": [
        "## Forward"
      ],
      "metadata": {
        "id": "nM33lkhgtLcd"
      }
    },
    {
      "cell_type": "code",
      "execution_count": null,
      "metadata": {
        "colab": {
          "base_uri": "https://localhost:8080/",
          "height": 235
        },
        "id": "jMKzBVw9hH0u",
        "outputId": "2a8f32bd-ddae-4f1a-960e-ca5fc09d7b51"
      },
      "outputs": [
        {
          "output_type": "error",
          "ename": "NameError",
          "evalue": "ignored",
          "traceback": [
            "\u001b[0;31m---------------------------------------------------------------------------\u001b[0m",
            "\u001b[0;31mNameError\u001b[0m                                 Traceback (most recent call last)",
            "\u001b[0;32m<ipython-input-19-49a995686017>\u001b[0m in \u001b[0;36m<module>\u001b[0;34m()\u001b[0m\n\u001b[1;32m     18\u001b[0m     \u001b[0;32mfor\u001b[0m \u001b[0ma\u001b[0m \u001b[0;32min\u001b[0m \u001b[0mrange\u001b[0m\u001b[0;34m(\u001b[0m\u001b[0;36m0\u001b[0m\u001b[0;34m,\u001b[0m\u001b[0mlen\u001b[0m\u001b[0;34m(\u001b[0m\u001b[0mX\u001b[0m\u001b[0;34m[\u001b[0m\u001b[0;36m0\u001b[0m\u001b[0;34m]\u001b[0m\u001b[0;34m)\u001b[0m\u001b[0;34m)\u001b[0m\u001b[0;34m:\u001b[0m\u001b[0;34m\u001b[0m\u001b[0;34m\u001b[0m\u001b[0m\n\u001b[1;32m     19\u001b[0m       \u001b[0mnet\u001b[0m \u001b[0;34m=\u001b[0m \u001b[0mX\u001b[0m\u001b[0;34m[\u001b[0m\u001b[0ma\u001b[0m\u001b[0;34m]\u001b[0m\u001b[0;34m*\u001b[0m\u001b[0mlayer1\u001b[0m\u001b[0;34m[\u001b[0m\u001b[0mneuron\u001b[0m\u001b[0;34m]\u001b[0m\u001b[0;34m[\u001b[0m\u001b[0ma\u001b[0m\u001b[0;34m]\u001b[0m\u001b[0;34m\u001b[0m\u001b[0;34m\u001b[0m\u001b[0m\n\u001b[0;32m---> 20\u001b[0;31m       \u001b[0mo\u001b[0m \u001b[0;34m=\u001b[0m \u001b[0mfativation\u001b[0m\u001b[0;34m(\u001b[0m\u001b[0mnet\u001b[0m\u001b[0;34m,\u001b[0m\u001b[0;34m'sigmoide'\u001b[0m\u001b[0;34m)\u001b[0m\u001b[0;34m\u001b[0m\u001b[0;34m\u001b[0m\u001b[0m\n\u001b[0m\u001b[1;32m     21\u001b[0m       \u001b[0mlayer1_o\u001b[0m\u001b[0;34m.\u001b[0m\u001b[0mappend\u001b[0m\u001b[0;34m(\u001b[0m\u001b[0mo\u001b[0m\u001b[0;34m)\u001b[0m\u001b[0;34m\u001b[0m\u001b[0;34m\u001b[0m\u001b[0m\n\u001b[1;32m     22\u001b[0m \u001b[0;34m\u001b[0m\u001b[0m\n",
            "\u001b[0;31mNameError\u001b[0m: name 'fativation' is not defined"
          ]
        }
      ],
      "source": [
        "ann = {}\n",
        "\n",
        "ann['layer 0'] = {}\n",
        "ann['layer 1'] = {}\n",
        "\n",
        "layer1 = []\n",
        "layer1.append([0.4,0.6])\n",
        "layer1.append([0.1,0.2])\n",
        "\n",
        "layer2 = []\n",
        "layer2.append([0.15,0.7])\n",
        "\n",
        "for i, x in enumerate(X):\n",
        "\n",
        "  layer1_o = []\n",
        "  for neuron in range(0,len(layer1)):\n",
        "\n",
        "    for a in range(0,len(X[0])):\n",
        "      net = X[a]*layer1[neuron][a]\n",
        "      o = fativation(net,'sigmoide')\n",
        "      layer1_o.append(o)\n",
        "\n",
        "  for neuron in range (0, len(layer1_o[0])):\n",
        "    net = layer1_o[a]*layer2[a]\n",
        "    y = fativaton(net, 'sigmoide')\n"
      ]
    },
    {
      "cell_type": "markdown",
      "source": [
        "##Backwards"
      ],
      "metadata": {
        "id": "GwWyRtbozehW"
      }
    },
    {
      "cell_type": "code",
      "source": [
        "grad_layer1 = []\n",
        "\n",
        "for x in enumarate(X)\n",
        "\n",
        "  grad_layer2 = (y-labels(i))*(y*(1-y))\n",
        "\n",
        "for neuron in range(0, len(layer1)):\n",
        "  grad_layer1 = grad_layer2*layer1_o[a]*layer2[neuron]\n",
        "\n",
        "for neuron in range(0, layer_1):\n",
        "  for a in range(0, len(layer1[0])):\n",
        "    layer[neuron][peso] += learning_rate*grad_layer1*layer[neuron][peso]\n",
        "\n",
        "#atualização dos pesos da camada 2 (layer2)\n",
        "\n"
      ],
      "metadata": {
        "id": "xlg5Ny2Kzg3N"
      },
      "execution_count": null,
      "outputs": []
    }
  ]
}